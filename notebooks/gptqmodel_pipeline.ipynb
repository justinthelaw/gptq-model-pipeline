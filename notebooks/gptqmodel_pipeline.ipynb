{
  "cells": [
    {
      "cell_type": "markdown",
      "metadata": {},
      "source": [
        "## GPTQModel Pipeline"
      ]
    },
    {
      "cell_type": "markdown",
      "metadata": {},
      "source": [
        "### Install Dependencies"
      ]
    },
    {
      "cell_type": "code",
      "execution_count": null,
      "metadata": {
        "colab": {
          "base_uri": "https://localhost:8080/",
          "height": 1000
        },
        "id": "6RLySGwfm0Ff",
        "outputId": "318f0459-02b3-42d0-acc8-5652654e7230"
      },
      "outputs": [
        {
          "name": "stdout",
          "output_type": "stream",
          "text": [
            "Requirement already satisfied: torch in /home/jlaw/dev/gptqmodel-pipeline/.venv/lib/python3.11/site-packages (2.4.0)\n",
            "Requirement already satisfied: datasets in /home/jlaw/dev/gptqmodel-pipeline/.venv/lib/python3.11/site-packages (2.20.0)\n",
            "Requirement already satisfied: wheel in /home/jlaw/dev/gptqmodel-pipeline/.venv/lib/python3.11/site-packages (0.43.0)\n",
            "Requirement already satisfied: filelock in /home/jlaw/dev/gptqmodel-pipeline/.venv/lib/python3.11/site-packages (from torch) (3.15.4)\n",
            "Requirement already satisfied: typing-extensions>=4.8.0 in /home/jlaw/dev/gptqmodel-pipeline/.venv/lib/python3.11/site-packages (from torch) (4.12.2)\n",
            "Requirement already satisfied: sympy in /home/jlaw/dev/gptqmodel-pipeline/.venv/lib/python3.11/site-packages (from torch) (1.13.1)\n",
            "Requirement already satisfied: networkx in /home/jlaw/dev/gptqmodel-pipeline/.venv/lib/python3.11/site-packages (from torch) (3.3)\n",
            "Requirement already satisfied: jinja2 in /home/jlaw/dev/gptqmodel-pipeline/.venv/lib/python3.11/site-packages (from torch) (3.1.4)\n",
            "Requirement already satisfied: fsspec in /home/jlaw/dev/gptqmodel-pipeline/.venv/lib/python3.11/site-packages (from torch) (2024.5.0)\n",
            "Requirement already satisfied: nvidia-cuda-nvrtc-cu12==12.1.105 in /home/jlaw/dev/gptqmodel-pipeline/.venv/lib/python3.11/site-packages (from torch) (12.1.105)\n",
            "Requirement already satisfied: nvidia-cuda-runtime-cu12==12.1.105 in /home/jlaw/dev/gptqmodel-pipeline/.venv/lib/python3.11/site-packages (from torch) (12.1.105)\n",
            "Requirement already satisfied: nvidia-cuda-cupti-cu12==12.1.105 in /home/jlaw/dev/gptqmodel-pipeline/.venv/lib/python3.11/site-packages (from torch) (12.1.105)\n",
            "Requirement already satisfied: nvidia-cudnn-cu12==9.1.0.70 in /home/jlaw/dev/gptqmodel-pipeline/.venv/lib/python3.11/site-packages (from torch) (9.1.0.70)\n",
            "Requirement already satisfied: nvidia-cublas-cu12==12.1.3.1 in /home/jlaw/dev/gptqmodel-pipeline/.venv/lib/python3.11/site-packages (from torch) (12.1.3.1)\n",
            "Requirement already satisfied: nvidia-cufft-cu12==11.0.2.54 in /home/jlaw/dev/gptqmodel-pipeline/.venv/lib/python3.11/site-packages (from torch) (11.0.2.54)\n",
            "Requirement already satisfied: nvidia-curand-cu12==10.3.2.106 in /home/jlaw/dev/gptqmodel-pipeline/.venv/lib/python3.11/site-packages (from torch) (10.3.2.106)\n",
            "Requirement already satisfied: nvidia-cusolver-cu12==11.4.5.107 in /home/jlaw/dev/gptqmodel-pipeline/.venv/lib/python3.11/site-packages (from torch) (11.4.5.107)\n",
            "Requirement already satisfied: nvidia-cusparse-cu12==12.1.0.106 in /home/jlaw/dev/gptqmodel-pipeline/.venv/lib/python3.11/site-packages (from torch) (12.1.0.106)\n",
            "Requirement already satisfied: nvidia-nccl-cu12==2.20.5 in /home/jlaw/dev/gptqmodel-pipeline/.venv/lib/python3.11/site-packages (from torch) (2.20.5)\n",
            "Requirement already satisfied: nvidia-nvtx-cu12==12.1.105 in /home/jlaw/dev/gptqmodel-pipeline/.venv/lib/python3.11/site-packages (from torch) (12.1.105)\n",
            "Requirement already satisfied: triton==3.0.0 in /home/jlaw/dev/gptqmodel-pipeline/.venv/lib/python3.11/site-packages (from torch) (3.0.0)\n",
            "Requirement already satisfied: nvidia-nvjitlink-cu12 in /home/jlaw/dev/gptqmodel-pipeline/.venv/lib/python3.11/site-packages (from nvidia-cusolver-cu12==11.4.5.107->torch) (12.5.82)\n",
            "Requirement already satisfied: numpy>=1.17 in /home/jlaw/dev/gptqmodel-pipeline/.venv/lib/python3.11/site-packages (from datasets) (1.26.4)\n",
            "Requirement already satisfied: pyarrow>=15.0.0 in /home/jlaw/dev/gptqmodel-pipeline/.venv/lib/python3.11/site-packages (from datasets) (17.0.0)\n",
            "Requirement already satisfied: pyarrow-hotfix in /home/jlaw/dev/gptqmodel-pipeline/.venv/lib/python3.11/site-packages (from datasets) (0.6)\n",
            "Requirement already satisfied: dill<0.3.9,>=0.3.0 in /home/jlaw/dev/gptqmodel-pipeline/.venv/lib/python3.11/site-packages (from datasets) (0.3.8)\n",
            "Requirement already satisfied: pandas in /home/jlaw/dev/gptqmodel-pipeline/.venv/lib/python3.11/site-packages (from datasets) (2.2.2)\n",
            "Requirement already satisfied: requests>=2.32.2 in /home/jlaw/dev/gptqmodel-pipeline/.venv/lib/python3.11/site-packages (from datasets) (2.32.3)\n",
            "Requirement already satisfied: tqdm>=4.66.3 in /home/jlaw/dev/gptqmodel-pipeline/.venv/lib/python3.11/site-packages (from datasets) (4.66.4)\n",
            "Requirement already satisfied: xxhash in /home/jlaw/dev/gptqmodel-pipeline/.venv/lib/python3.11/site-packages (from datasets) (3.4.1)\n",
            "Requirement already satisfied: multiprocess in /home/jlaw/dev/gptqmodel-pipeline/.venv/lib/python3.11/site-packages (from datasets) (0.70.16)\n",
            "Requirement already satisfied: aiohttp in /home/jlaw/dev/gptqmodel-pipeline/.venv/lib/python3.11/site-packages (from datasets) (3.9.5)\n",
            "Requirement already satisfied: huggingface-hub>=0.21.2 in /home/jlaw/dev/gptqmodel-pipeline/.venv/lib/python3.11/site-packages (from datasets) (0.24.3)\n",
            "Requirement already satisfied: packaging in /home/jlaw/dev/gptqmodel-pipeline/.venv/lib/python3.11/site-packages (from datasets) (24.1)\n",
            "Requirement already satisfied: pyyaml>=5.1 in /home/jlaw/dev/gptqmodel-pipeline/.venv/lib/python3.11/site-packages (from datasets) (6.0.1)\n",
            "Requirement already satisfied: aiosignal>=1.1.2 in /home/jlaw/dev/gptqmodel-pipeline/.venv/lib/python3.11/site-packages (from aiohttp->datasets) (1.3.1)\n",
            "Requirement already satisfied: attrs>=17.3.0 in /home/jlaw/dev/gptqmodel-pipeline/.venv/lib/python3.11/site-packages (from aiohttp->datasets) (23.2.0)\n",
            "Requirement already satisfied: frozenlist>=1.1.1 in /home/jlaw/dev/gptqmodel-pipeline/.venv/lib/python3.11/site-packages (from aiohttp->datasets) (1.4.1)\n",
            "Requirement already satisfied: multidict<7.0,>=4.5 in /home/jlaw/dev/gptqmodel-pipeline/.venv/lib/python3.11/site-packages (from aiohttp->datasets) (6.0.5)\n",
            "Requirement already satisfied: yarl<2.0,>=1.0 in /home/jlaw/dev/gptqmodel-pipeline/.venv/lib/python3.11/site-packages (from aiohttp->datasets) (1.9.4)\n",
            "Requirement already satisfied: charset-normalizer<4,>=2 in /home/jlaw/dev/gptqmodel-pipeline/.venv/lib/python3.11/site-packages (from requests>=2.32.2->datasets) (3.3.2)\n",
            "Requirement already satisfied: idna<4,>=2.5 in /home/jlaw/dev/gptqmodel-pipeline/.venv/lib/python3.11/site-packages (from requests>=2.32.2->datasets) (3.7)\n",
            "Requirement already satisfied: urllib3<3,>=1.21.1 in /home/jlaw/dev/gptqmodel-pipeline/.venv/lib/python3.11/site-packages (from requests>=2.32.2->datasets) (2.2.2)\n",
            "Requirement already satisfied: certifi>=2017.4.17 in /home/jlaw/dev/gptqmodel-pipeline/.venv/lib/python3.11/site-packages (from requests>=2.32.2->datasets) (2024.7.4)\n",
            "Requirement already satisfied: MarkupSafe>=2.0 in /home/jlaw/dev/gptqmodel-pipeline/.venv/lib/python3.11/site-packages (from jinja2->torch) (2.1.5)\n",
            "Requirement already satisfied: python-dateutil>=2.8.2 in /home/jlaw/dev/gptqmodel-pipeline/.venv/lib/python3.11/site-packages (from pandas->datasets) (2.9.0.post0)\n",
            "Requirement already satisfied: pytz>=2020.1 in /home/jlaw/dev/gptqmodel-pipeline/.venv/lib/python3.11/site-packages (from pandas->datasets) (2024.1)\n",
            "Requirement already satisfied: tzdata>=2022.7 in /home/jlaw/dev/gptqmodel-pipeline/.venv/lib/python3.11/site-packages (from pandas->datasets) (2024.1)\n",
            "Requirement already satisfied: mpmath<1.4,>=1.1.0 in /home/jlaw/dev/gptqmodel-pipeline/.venv/lib/python3.11/site-packages (from sympy->torch) (1.3.0)\n",
            "Requirement already satisfied: six>=1.5 in /home/jlaw/dev/gptqmodel-pipeline/.venv/lib/python3.11/site-packages (from python-dateutil>=2.8.2->pandas->datasets) (1.16.0)\n",
            "Note: you may need to restart the kernel to use updated packages.\n"
          ]
        }
      ],
      "source": [
        "# install GPTQModel pre-requisites\n",
        "%pip install torch datasets wheel"
      ]
    },
    {
      "cell_type": "markdown",
      "metadata": {},
      "source": [
        "### Install GPTQModel"
      ]
    },
    {
      "cell_type": "code",
      "execution_count": null,
      "metadata": {
        "colab": {
          "base_uri": "https://localhost:8080/"
        },
        "id": "xmjJmv-RnY_k",
        "outputId": "e8b13bbf-6951-478e-b2af-3c79dcc10b0a"
      },
      "outputs": [
        {
          "name": "stdout",
          "output_type": "stream",
          "text": [
            "fatal: destination path 'GPTQModel' already exists and is not an empty directory.\n",
            "Processing /home/jlaw/dev/gptqmodel-pipeline/notebooks/GPTQModel\n",
            "  Preparing metadata (setup.py) ... \u001b[?25ldone\n",
            "\u001b[?25hRequirement already satisfied: accelerate>=0.31.0 in /home/jlaw/dev/gptqmodel-pipeline/.venv/lib/python3.11/site-packages (from gptqmodel==0.9.9+cu121) (0.33.0)\n",
            "Requirement already satisfied: datasets>=2.20.0 in /home/jlaw/dev/gptqmodel-pipeline/.venv/lib/python3.11/site-packages (from gptqmodel==0.9.9+cu121) (2.20.0)\n",
            "Requirement already satisfied: sentencepiece>=0.2.0 in /home/jlaw/dev/gptqmodel-pipeline/.venv/lib/python3.11/site-packages (from gptqmodel==0.9.9+cu121) (0.2.0)\n",
            "Requirement already satisfied: numpy>=1.26.4 in /home/jlaw/dev/gptqmodel-pipeline/.venv/lib/python3.11/site-packages (from gptqmodel==0.9.9+cu121) (1.26.4)\n",
            "Requirement already satisfied: rouge>=1.0.1 in /home/jlaw/dev/gptqmodel-pipeline/.venv/lib/python3.11/site-packages (from gptqmodel==0.9.9+cu121) (1.0.1)\n",
            "Requirement already satisfied: gekko>=1.1.1 in /home/jlaw/dev/gptqmodel-pipeline/.venv/lib/python3.11/site-packages (from gptqmodel==0.9.9+cu121) (1.2.1)\n",
            "Requirement already satisfied: torch>=2.0.0 in /home/jlaw/dev/gptqmodel-pipeline/.venv/lib/python3.11/site-packages (from gptqmodel==0.9.9+cu121) (2.4.0)\n",
            "Requirement already satisfied: triton>=2.0.0 in /home/jlaw/dev/gptqmodel-pipeline/.venv/lib/python3.11/site-packages (from gptqmodel==0.9.9+cu121) (3.0.0)\n",
            "Requirement already satisfied: safetensors>=0.4.3 in /home/jlaw/dev/gptqmodel-pipeline/.venv/lib/python3.11/site-packages (from gptqmodel==0.9.9+cu121) (0.4.3)\n",
            "Requirement already satisfied: transformers>=4.43.1 in /home/jlaw/dev/gptqmodel-pipeline/.venv/lib/python3.11/site-packages (from gptqmodel==0.9.9+cu121) (4.43.3)\n",
            "Requirement already satisfied: tqdm>=4.66.4 in /home/jlaw/dev/gptqmodel-pipeline/.venv/lib/python3.11/site-packages (from gptqmodel==0.9.9+cu121) (4.66.4)\n",
            "Requirement already satisfied: threadpoolctl>=3.5.0 in /home/jlaw/dev/gptqmodel-pipeline/.venv/lib/python3.11/site-packages (from gptqmodel==0.9.9+cu121) (3.5.0)\n",
            "Requirement already satisfied: packaging>=24.1 in /home/jlaw/dev/gptqmodel-pipeline/.venv/lib/python3.11/site-packages (from gptqmodel==0.9.9+cu121) (24.1)\n",
            "Requirement already satisfied: ninja>=1.11.1.1 in /home/jlaw/dev/gptqmodel-pipeline/.venv/lib/python3.11/site-packages (from gptqmodel==0.9.9+cu121) (1.11.1.1)\n",
            "Requirement already satisfied: protobuf>=4.25.3 in /home/jlaw/dev/gptqmodel-pipeline/.venv/lib/python3.11/site-packages (from gptqmodel==0.9.9+cu121) (5.27.2)\n",
            "Requirement already satisfied: intel_extension_for_transformers>=1.4.2 in /home/jlaw/dev/gptqmodel-pipeline/.venv/lib/python3.11/site-packages (from gptqmodel==0.9.9+cu121) (1.4.2)\n",
            "Requirement already satisfied: auto-round==0.2 in /home/jlaw/dev/gptqmodel-pipeline/.venv/lib/python3.11/site-packages (from gptqmodel==0.9.9+cu121) (0.2)\n",
            "Requirement already satisfied: auto-gptq in /home/jlaw/dev/gptqmodel-pipeline/.venv/lib/python3.11/site-packages (from auto-round==0.2->gptqmodel==0.9.9+cu121) (0.7.1)\n",
            "Requirement already satisfied: py-cpuinfo in /home/jlaw/dev/gptqmodel-pipeline/.venv/lib/python3.11/site-packages (from auto-round==0.2->gptqmodel==0.9.9+cu121) (9.0.0)\n",
            "Requirement already satisfied: psutil in /home/jlaw/dev/gptqmodel-pipeline/.venv/lib/python3.11/site-packages (from accelerate>=0.31.0->gptqmodel==0.9.9+cu121) (6.0.0)\n",
            "Requirement already satisfied: pyyaml in /home/jlaw/dev/gptqmodel-pipeline/.venv/lib/python3.11/site-packages (from accelerate>=0.31.0->gptqmodel==0.9.9+cu121) (6.0.1)\n",
            "Requirement already satisfied: huggingface-hub>=0.21.0 in /home/jlaw/dev/gptqmodel-pipeline/.venv/lib/python3.11/site-packages (from accelerate>=0.31.0->gptqmodel==0.9.9+cu121) (0.24.3)\n",
            "Requirement already satisfied: filelock in /home/jlaw/dev/gptqmodel-pipeline/.venv/lib/python3.11/site-packages (from datasets>=2.20.0->gptqmodel==0.9.9+cu121) (3.15.4)\n",
            "Requirement already satisfied: pyarrow>=15.0.0 in /home/jlaw/dev/gptqmodel-pipeline/.venv/lib/python3.11/site-packages (from datasets>=2.20.0->gptqmodel==0.9.9+cu121) (17.0.0)\n",
            "Requirement already satisfied: pyarrow-hotfix in /home/jlaw/dev/gptqmodel-pipeline/.venv/lib/python3.11/site-packages (from datasets>=2.20.0->gptqmodel==0.9.9+cu121) (0.6)\n",
            "Requirement already satisfied: dill<0.3.9,>=0.3.0 in /home/jlaw/dev/gptqmodel-pipeline/.venv/lib/python3.11/site-packages (from datasets>=2.20.0->gptqmodel==0.9.9+cu121) (0.3.8)\n",
            "Requirement already satisfied: pandas in /home/jlaw/dev/gptqmodel-pipeline/.venv/lib/python3.11/site-packages (from datasets>=2.20.0->gptqmodel==0.9.9+cu121) (2.2.2)\n",
            "Requirement already satisfied: requests>=2.32.2 in /home/jlaw/dev/gptqmodel-pipeline/.venv/lib/python3.11/site-packages (from datasets>=2.20.0->gptqmodel==0.9.9+cu121) (2.32.3)\n",
            "Requirement already satisfied: xxhash in /home/jlaw/dev/gptqmodel-pipeline/.venv/lib/python3.11/site-packages (from datasets>=2.20.0->gptqmodel==0.9.9+cu121) (3.4.1)\n",
            "Requirement already satisfied: multiprocess in /home/jlaw/dev/gptqmodel-pipeline/.venv/lib/python3.11/site-packages (from datasets>=2.20.0->gptqmodel==0.9.9+cu121) (0.70.16)\n",
            "Requirement already satisfied: fsspec<=2024.5.0,>=2023.1.0 in /home/jlaw/dev/gptqmodel-pipeline/.venv/lib/python3.11/site-packages (from fsspec[http]<=2024.5.0,>=2023.1.0->datasets>=2.20.0->gptqmodel==0.9.9+cu121) (2024.5.0)\n",
            "Requirement already satisfied: aiohttp in /home/jlaw/dev/gptqmodel-pipeline/.venv/lib/python3.11/site-packages (from datasets>=2.20.0->gptqmodel==0.9.9+cu121) (3.9.5)\n",
            "Requirement already satisfied: schema in /home/jlaw/dev/gptqmodel-pipeline/.venv/lib/python3.11/site-packages (from intel_extension_for_transformers>=1.4.2->gptqmodel==0.9.9+cu121) (0.7.7)\n",
            "Requirement already satisfied: neural-compressor in /home/jlaw/dev/gptqmodel-pipeline/.venv/lib/python3.11/site-packages (from intel_extension_for_transformers>=1.4.2->gptqmodel==0.9.9+cu121) (2.6)\n",
            "Requirement already satisfied: six in /home/jlaw/dev/gptqmodel-pipeline/.venv/lib/python3.11/site-packages (from rouge>=1.0.1->gptqmodel==0.9.9+cu121) (1.16.0)\n",
            "Requirement already satisfied: typing-extensions>=4.8.0 in /home/jlaw/dev/gptqmodel-pipeline/.venv/lib/python3.11/site-packages (from torch>=2.0.0->gptqmodel==0.9.9+cu121) (4.12.2)\n",
            "Requirement already satisfied: sympy in /home/jlaw/dev/gptqmodel-pipeline/.venv/lib/python3.11/site-packages (from torch>=2.0.0->gptqmodel==0.9.9+cu121) (1.13.1)\n",
            "Requirement already satisfied: networkx in /home/jlaw/dev/gptqmodel-pipeline/.venv/lib/python3.11/site-packages (from torch>=2.0.0->gptqmodel==0.9.9+cu121) (3.3)\n",
            "Requirement already satisfied: jinja2 in /home/jlaw/dev/gptqmodel-pipeline/.venv/lib/python3.11/site-packages (from torch>=2.0.0->gptqmodel==0.9.9+cu121) (3.1.4)\n",
            "Requirement already satisfied: nvidia-cuda-nvrtc-cu12==12.1.105 in /home/jlaw/dev/gptqmodel-pipeline/.venv/lib/python3.11/site-packages (from torch>=2.0.0->gptqmodel==0.9.9+cu121) (12.1.105)\n",
            "Requirement already satisfied: nvidia-cuda-runtime-cu12==12.1.105 in /home/jlaw/dev/gptqmodel-pipeline/.venv/lib/python3.11/site-packages (from torch>=2.0.0->gptqmodel==0.9.9+cu121) (12.1.105)\n",
            "Requirement already satisfied: nvidia-cuda-cupti-cu12==12.1.105 in /home/jlaw/dev/gptqmodel-pipeline/.venv/lib/python3.11/site-packages (from torch>=2.0.0->gptqmodel==0.9.9+cu121) (12.1.105)\n",
            "Requirement already satisfied: nvidia-cudnn-cu12==9.1.0.70 in /home/jlaw/dev/gptqmodel-pipeline/.venv/lib/python3.11/site-packages (from torch>=2.0.0->gptqmodel==0.9.9+cu121) (9.1.0.70)\n",
            "Requirement already satisfied: nvidia-cublas-cu12==12.1.3.1 in /home/jlaw/dev/gptqmodel-pipeline/.venv/lib/python3.11/site-packages (from torch>=2.0.0->gptqmodel==0.9.9+cu121) (12.1.3.1)\n",
            "Requirement already satisfied: nvidia-cufft-cu12==11.0.2.54 in /home/jlaw/dev/gptqmodel-pipeline/.venv/lib/python3.11/site-packages (from torch>=2.0.0->gptqmodel==0.9.9+cu121) (11.0.2.54)\n",
            "Requirement already satisfied: nvidia-curand-cu12==10.3.2.106 in /home/jlaw/dev/gptqmodel-pipeline/.venv/lib/python3.11/site-packages (from torch>=2.0.0->gptqmodel==0.9.9+cu121) (10.3.2.106)\n",
            "Requirement already satisfied: nvidia-cusolver-cu12==11.4.5.107 in /home/jlaw/dev/gptqmodel-pipeline/.venv/lib/python3.11/site-packages (from torch>=2.0.0->gptqmodel==0.9.9+cu121) (11.4.5.107)\n",
            "Requirement already satisfied: nvidia-cusparse-cu12==12.1.0.106 in /home/jlaw/dev/gptqmodel-pipeline/.venv/lib/python3.11/site-packages (from torch>=2.0.0->gptqmodel==0.9.9+cu121) (12.1.0.106)\n",
            "Requirement already satisfied: nvidia-nccl-cu12==2.20.5 in /home/jlaw/dev/gptqmodel-pipeline/.venv/lib/python3.11/site-packages (from torch>=2.0.0->gptqmodel==0.9.9+cu121) (2.20.5)\n",
            "Requirement already satisfied: nvidia-nvtx-cu12==12.1.105 in /home/jlaw/dev/gptqmodel-pipeline/.venv/lib/python3.11/site-packages (from torch>=2.0.0->gptqmodel==0.9.9+cu121) (12.1.105)\n",
            "Requirement already satisfied: nvidia-nvjitlink-cu12 in /home/jlaw/dev/gptqmodel-pipeline/.venv/lib/python3.11/site-packages (from nvidia-cusolver-cu12==11.4.5.107->torch>=2.0.0->gptqmodel==0.9.9+cu121) (12.5.82)\n",
            "Requirement already satisfied: regex!=2019.12.17 in /home/jlaw/dev/gptqmodel-pipeline/.venv/lib/python3.11/site-packages (from transformers>=4.43.1->gptqmodel==0.9.9+cu121) (2024.7.24)\n",
            "Requirement already satisfied: tokenizers<0.20,>=0.19 in /home/jlaw/dev/gptqmodel-pipeline/.venv/lib/python3.11/site-packages (from transformers>=4.43.1->gptqmodel==0.9.9+cu121) (0.19.1)\n",
            "Requirement already satisfied: aiosignal>=1.1.2 in /home/jlaw/dev/gptqmodel-pipeline/.venv/lib/python3.11/site-packages (from aiohttp->datasets>=2.20.0->gptqmodel==0.9.9+cu121) (1.3.1)\n",
            "Requirement already satisfied: attrs>=17.3.0 in /home/jlaw/dev/gptqmodel-pipeline/.venv/lib/python3.11/site-packages (from aiohttp->datasets>=2.20.0->gptqmodel==0.9.9+cu121) (23.2.0)\n",
            "Requirement already satisfied: frozenlist>=1.1.1 in /home/jlaw/dev/gptqmodel-pipeline/.venv/lib/python3.11/site-packages (from aiohttp->datasets>=2.20.0->gptqmodel==0.9.9+cu121) (1.4.1)\n",
            "Requirement already satisfied: multidict<7.0,>=4.5 in /home/jlaw/dev/gptqmodel-pipeline/.venv/lib/python3.11/site-packages (from aiohttp->datasets>=2.20.0->gptqmodel==0.9.9+cu121) (6.0.5)\n",
            "Requirement already satisfied: yarl<2.0,>=1.0 in /home/jlaw/dev/gptqmodel-pipeline/.venv/lib/python3.11/site-packages (from aiohttp->datasets>=2.20.0->gptqmodel==0.9.9+cu121) (1.9.4)\n",
            "Requirement already satisfied: charset-normalizer<4,>=2 in /home/jlaw/dev/gptqmodel-pipeline/.venv/lib/python3.11/site-packages (from requests>=2.32.2->datasets>=2.20.0->gptqmodel==0.9.9+cu121) (3.3.2)\n",
            "Requirement already satisfied: idna<4,>=2.5 in /home/jlaw/dev/gptqmodel-pipeline/.venv/lib/python3.11/site-packages (from requests>=2.32.2->datasets>=2.20.0->gptqmodel==0.9.9+cu121) (3.7)\n",
            "Requirement already satisfied: urllib3<3,>=1.21.1 in /home/jlaw/dev/gptqmodel-pipeline/.venv/lib/python3.11/site-packages (from requests>=2.32.2->datasets>=2.20.0->gptqmodel==0.9.9+cu121) (2.2.2)\n",
            "Requirement already satisfied: certifi>=2017.4.17 in /home/jlaw/dev/gptqmodel-pipeline/.venv/lib/python3.11/site-packages (from requests>=2.32.2->datasets>=2.20.0->gptqmodel==0.9.9+cu121) (2024.7.4)\n",
            "Requirement already satisfied: peft>=0.5.0 in /home/jlaw/dev/gptqmodel-pipeline/.venv/lib/python3.11/site-packages (from auto-gptq->auto-round==0.2->gptqmodel==0.9.9+cu121) (0.12.0)\n",
            "Requirement already satisfied: MarkupSafe>=2.0 in /home/jlaw/dev/gptqmodel-pipeline/.venv/lib/python3.11/site-packages (from jinja2->torch>=2.0.0->gptqmodel==0.9.9+cu121) (2.1.5)\n",
            "Requirement already satisfied: deprecated>=1.2.13 in /home/jlaw/dev/gptqmodel-pipeline/.venv/lib/python3.11/site-packages (from neural-compressor->intel_extension_for_transformers>=1.4.2->gptqmodel==0.9.9+cu121) (1.2.14)\n",
            "Requirement already satisfied: opencv-python-headless in /home/jlaw/dev/gptqmodel-pipeline/.venv/lib/python3.11/site-packages (from neural-compressor->intel_extension_for_transformers>=1.4.2->gptqmodel==0.9.9+cu121) (4.10.0.84)\n",
            "Requirement already satisfied: Pillow in /home/jlaw/dev/gptqmodel-pipeline/.venv/lib/python3.11/site-packages (from neural-compressor->intel_extension_for_transformers>=1.4.2->gptqmodel==0.9.9+cu121) (10.4.0)\n",
            "Requirement already satisfied: prettytable in /home/jlaw/dev/gptqmodel-pipeline/.venv/lib/python3.11/site-packages (from neural-compressor->intel_extension_for_transformers>=1.4.2->gptqmodel==0.9.9+cu121) (3.10.2)\n",
            "Requirement already satisfied: scikit-learn in /home/jlaw/dev/gptqmodel-pipeline/.venv/lib/python3.11/site-packages (from neural-compressor->intel_extension_for_transformers>=1.4.2->gptqmodel==0.9.9+cu121) (1.5.1)\n",
            "Requirement already satisfied: pycocotools in /home/jlaw/dev/gptqmodel-pipeline/.venv/lib/python3.11/site-packages (from neural-compressor->intel_extension_for_transformers>=1.4.2->gptqmodel==0.9.9+cu121) (2.0.8)\n",
            "Requirement already satisfied: python-dateutil>=2.8.2 in /home/jlaw/dev/gptqmodel-pipeline/.venv/lib/python3.11/site-packages (from pandas->datasets>=2.20.0->gptqmodel==0.9.9+cu121) (2.9.0.post0)\n",
            "Requirement already satisfied: pytz>=2020.1 in /home/jlaw/dev/gptqmodel-pipeline/.venv/lib/python3.11/site-packages (from pandas->datasets>=2.20.0->gptqmodel==0.9.9+cu121) (2024.1)\n",
            "Requirement already satisfied: tzdata>=2022.7 in /home/jlaw/dev/gptqmodel-pipeline/.venv/lib/python3.11/site-packages (from pandas->datasets>=2.20.0->gptqmodel==0.9.9+cu121) (2024.1)\n",
            "Requirement already satisfied: mpmath<1.4,>=1.1.0 in /home/jlaw/dev/gptqmodel-pipeline/.venv/lib/python3.11/site-packages (from sympy->torch>=2.0.0->gptqmodel==0.9.9+cu121) (1.3.0)\n",
            "Requirement already satisfied: wrapt<2,>=1.10 in /home/jlaw/dev/gptqmodel-pipeline/.venv/lib/python3.11/site-packages (from deprecated>=1.2.13->neural-compressor->intel_extension_for_transformers>=1.4.2->gptqmodel==0.9.9+cu121) (1.16.0)\n",
            "Requirement already satisfied: wcwidth in /home/jlaw/dev/gptqmodel-pipeline/.venv/lib/python3.11/site-packages (from prettytable->neural-compressor->intel_extension_for_transformers>=1.4.2->gptqmodel==0.9.9+cu121) (0.2.13)\n",
            "Requirement already satisfied: matplotlib>=2.1.0 in /home/jlaw/dev/gptqmodel-pipeline/.venv/lib/python3.11/site-packages (from pycocotools->neural-compressor->intel_extension_for_transformers>=1.4.2->gptqmodel==0.9.9+cu121) (3.9.1)\n",
            "Requirement already satisfied: scipy>=1.6.0 in /home/jlaw/dev/gptqmodel-pipeline/.venv/lib/python3.11/site-packages (from scikit-learn->neural-compressor->intel_extension_for_transformers>=1.4.2->gptqmodel==0.9.9+cu121) (1.14.0)\n",
            "Requirement already satisfied: joblib>=1.2.0 in /home/jlaw/dev/gptqmodel-pipeline/.venv/lib/python3.11/site-packages (from scikit-learn->neural-compressor->intel_extension_for_transformers>=1.4.2->gptqmodel==0.9.9+cu121) (1.4.2)\n",
            "Requirement already satisfied: contourpy>=1.0.1 in /home/jlaw/dev/gptqmodel-pipeline/.venv/lib/python3.11/site-packages (from matplotlib>=2.1.0->pycocotools->neural-compressor->intel_extension_for_transformers>=1.4.2->gptqmodel==0.9.9+cu121) (1.2.1)\n",
            "Requirement already satisfied: cycler>=0.10 in /home/jlaw/dev/gptqmodel-pipeline/.venv/lib/python3.11/site-packages (from matplotlib>=2.1.0->pycocotools->neural-compressor->intel_extension_for_transformers>=1.4.2->gptqmodel==0.9.9+cu121) (0.12.1)\n",
            "Requirement already satisfied: fonttools>=4.22.0 in /home/jlaw/dev/gptqmodel-pipeline/.venv/lib/python3.11/site-packages (from matplotlib>=2.1.0->pycocotools->neural-compressor->intel_extension_for_transformers>=1.4.2->gptqmodel==0.9.9+cu121) (4.53.1)\n",
            "Requirement already satisfied: kiwisolver>=1.3.1 in /home/jlaw/dev/gptqmodel-pipeline/.venv/lib/python3.11/site-packages (from matplotlib>=2.1.0->pycocotools->neural-compressor->intel_extension_for_transformers>=1.4.2->gptqmodel==0.9.9+cu121) (1.4.5)\n",
            "Requirement already satisfied: pyparsing>=2.3.1 in /home/jlaw/dev/gptqmodel-pipeline/.venv/lib/python3.11/site-packages (from matplotlib>=2.1.0->pycocotools->neural-compressor->intel_extension_for_transformers>=1.4.2->gptqmodel==0.9.9+cu121) (3.1.2)\n",
            "Building wheels for collected packages: gptqmodel\n",
            "  Building wheel for gptqmodel (setup.py) ... \u001b[?25ldone\n",
            "\u001b[?25h  Created wheel for gptqmodel: filename=gptqmodel-0.9.9+cu121-cp311-cp311-linux_x86_64.whl size=9430897 sha256=87d92afbce45fdf0aff2fe9360d06fbee2c6da5e0bacac4102e8afd6e75f8157\n",
            "  Stored in directory: /tmp/pip-ephem-wheel-cache-yp6y10v_/wheels/30/a6/d2/65b8183a53eac7ce46a2d535bd54140689d0dae2848bd95f40\n",
            "Successfully built gptqmodel\n",
            "Installing collected packages: gptqmodel\n",
            "  Attempting uninstall: gptqmodel\n",
            "    Found existing installation: gptqmodel 0.9.9+cu121\n",
            "    Uninstalling gptqmodel-0.9.9+cu121:\n",
            "      Successfully uninstalled gptqmodel-0.9.9+cu121\n",
            "Successfully installed gptqmodel-0.9.9+cu121\n"
          ]
        }
      ],
      "source": [
        "# clone GPTQModel repo\n",
        "!git clone --depth 1 --branch v0.9.9 https://github.com/ModelCloud/GPTQModel.git\n",
        "\n",
        "# compile and install GPTQModel\n",
        "!cd GPTQModel && pip install --no-build-isolation ."
      ]
    },
    {
      "cell_type": "markdown",
      "metadata": {},
      "source": [
        "### Simple GPTQ Quantization\n",
        "\n",
        "Using the WikiText2 dataset and microsoft/Phi-3-mini-128k-instruct."
      ]
    },
    {
      "cell_type": "code",
      "execution_count": null,
      "metadata": {
        "colab": {
          "base_uri": "https://localhost:8080/",
          "height": 391
        },
        "id": "4sJBhYRZm3YT",
        "outputId": "cf980252-c5e6-430c-d8ff-e5000872bcde"
      },
      "outputs": [
        {
          "name": "stderr",
          "output_type": "stream",
          "text": [
            "/home/jlaw/dev/gptqmodel-pipeline/.venv/lib/python3.11/site-packages/tqdm/auto.py:21: TqdmWarning: IProgress not found. Please update jupyter and ipywidgets. See https://ipywidgets.readthedocs.io/en/stable/user_install.html\n",
            "  from .autonotebook import tqdm as notebook_tqdm\n",
            "/home/jlaw/dev/gptqmodel-pipeline/.venv/lib/python3.11/site-packages/gptqmodel/nn_modules/triton_utils/dequant.py:122: FutureWarning: `torch.cuda.amp.custom_fwd(args...)` is deprecated. Please use `torch.amp.custom_fwd(args..., device_type='cuda')` instead.\n",
            "  @custom_fwd\n",
            "/home/jlaw/dev/gptqmodel-pipeline/.venv/lib/python3.11/site-packages/gptqmodel/nn_modules/triton_utils/dequant.py:130: FutureWarning: `torch.cuda.amp.custom_bwd(args...)` is deprecated. Please use `torch.amp.custom_bwd(args..., device_type='cuda')` instead.\n",
            "  @custom_bwd\n"
          ]
        },
        {
          "name": "stdout",
          "output_type": "stream",
          "text": [
            "Loading WikiText2 training data...\n",
            "Completed loading of WikiText2 training data!\n"
          ]
        },
        {
          "name": "stderr",
          "output_type": "stream",
          "text": [
            "Downloading shards: 100%|██████████| 2/2 [02:02<00:00, 61.01s/it]\n",
            "Loading checkpoint shards: 100%|██████████| 2/2 [00:00<00:00, 14.49it/s]\n"
          ]
        },
        {
          "name": "stdout",
          "output_type": "stream",
          "text": [
            "Beginning quantization...\n"
          ]
        },
        {
          "name": "stderr",
          "output_type": "stream",
          "text": [
            "Quantizing layer 1 of 32:   0%|          | 0/32 [00:00<?, ?it/s]You are not running the flash-attention implementation, expect numerical differences.\n",
            "Quantizing self_attn.qkv_proj in layer 1 of 32:   0%|          | 0/32 [00:04<?, ?it/s]INFO - {'layer': 1, 'module': 'self_attn.qkv_proj', 'avg_loss': '0.1069', 'time': '0.4765'}\n",
            "Quantizing self_attn.o_proj in layer 1 of 32:   0%|          | 0/32 [00:09<?, ?it/s]  INFO - {'layer': 1, 'module': 'self_attn.o_proj', 'avg_loss': '0.0002', 'time': '0.3293'}\n",
            "Quantizing mlp.gate_up_proj in layer 1 of 32:   0%|          | 0/32 [00:14<?, ?it/s]INFO - {'layer': 1, 'module': 'mlp.gate_up_proj', 'avg_loss': '0.0554', 'time': '0.4137'}\n",
            "Quantizing mlp.down_proj in layer 1 of 32:   0%|          | 0/32 [00:27<?, ?it/s]   INFO - {'layer': 1, 'module': 'mlp.down_proj', 'avg_loss': '0.0011', 'time': '1.1158'}\n",
            "Quantizing self_attn.qkv_proj in layer 2 of 32:   3%|▎         | 1/32 [00:35<16:23, 31.71s/it]INFO - {'layer': 2, 'module': 'self_attn.qkv_proj', 'avg_loss': '0.1870', 'time': '0.3711'}\n",
            "Quantizing self_attn.o_proj in layer 2 of 32:   3%|▎         | 1/32 [00:40<16:23, 31.71s/it]  INFO - {'layer': 2, 'module': 'self_attn.o_proj', 'avg_loss': '0.0030', 'time': '0.3312'}\n"
          ]
        }
      ],
      "source": [
        "import torch\n",
        "import logging\n",
        "from gptqmodel import GPTQModel, QuantizeConfig\n",
        "from transformers import AutoTokenizer\n",
        "from datasets import load_dataset\n",
        "\n",
        "\n",
        "pretrained_model_id = \"microsoft/Phi-3-mini-128k-instruct\"\n",
        "quantized_model_id = \"Phi-3-mini-128k-instruct-4bit-128g\"\n",
        "\n",
        "\n",
        "def get_wikitext2(tokenizer, nsamples, seqlen):\n",
        "    traindata = load_dataset(\"wikitext\", \"wikitext-2-raw-v1\", split=\"train\").filter(\n",
        "        lambda x: len(x[\"text\"]) >= seqlen\n",
        "    )\n",
        "\n",
        "    return [tokenizer(example[\"text\"]) for example in traindata.select(range(nsamples))]\n",
        "\n",
        "\n",
        "@torch.no_grad()\n",
        "def calculate_avg_ppl(model, tokenizer):\n",
        "    from gptqmodel.utils import Perplexity\n",
        "\n",
        "    ppl = Perplexity(\n",
        "        model=model,\n",
        "        tokenizer=tokenizer,\n",
        "        dataset_path=\"wikitext\",\n",
        "        dataset_name=\"wikitext-2-raw-v1\",\n",
        "        split=\"train\",\n",
        "        text_column=\"text\",\n",
        "    )\n",
        "\n",
        "    # n_ctx is context size\n",
        "    # n_batch is the batch size\n",
        "    all = ppl.calculate(n_ctx=512, n_batch=128)\n",
        "\n",
        "    # average ppl\n",
        "    avg = sum(all) / len(all)\n",
        "\n",
        "    return avg\n",
        "\n",
        "\n",
        "def main():\n",
        "    tokenizer = AutoTokenizer.from_pretrained(pretrained_model_id, use_fast=True)\n",
        "\n",
        "    print(\"Loading WikiText2 training data...\")\n",
        "    train_dataset = get_wikitext2(tokenizer, nsamples=512, seqlen=1024)\n",
        "    print(\"Completed loading of WikiText2 training data!\")\n",
        "\n",
        "    quantize_config = QuantizeConfig(\n",
        "        # quantize model to 4-bit\n",
        "        bits=4,\n",
        "        # 128 offer good balance between inference speed and quantization quality\n",
        "        group_size=128,  # it is recommended to set the value to 128\n",
        "        # increase damp if NaN is encountered during `.quantize()` and/or increase calibration dataset size\n",
        "        damp_percent=0.01,\n",
        "        desc_act=True,\n",
        "        static_groups=False,\n",
        "        sym=True,\n",
        "        true_sequential=True,\n",
        "        lm_head=False,\n",
        "        # marlin is vLLM's preferred GPTQ quantization method, which is included in \"gptq\"\n",
        "        quant_method=\"gptq\",\n",
        "    )\n",
        "\n",
        "    # load un-quantized model, the model will always be force loaded into cpu\n",
        "    model = GPTQModel.from_pretrained(pretrained_model_id, quantize_config)\n",
        "\n",
        "    print(\"Beginning quantization...\")\n",
        "    # quantize model, the calibration_dataset should be list of dict whose keys can only be \"input_ids\" and \"attention_mask\"\n",
        "    # with value under torch.LongTensor type.\n",
        "    model.quantize(train_dataset)\n",
        "    print(\"Quantization complete!\")\n",
        "\n",
        "    print(\"Saving quantized model...\")\n",
        "    # save quantized model\n",
        "    model.save_quantized(quantized_model_id)\n",
        "    # save quantized model using safetensors\n",
        "    model.save_quantized(quantized_model_id, use_safetensors=True)\n",
        "    print(\"Saving quantized model complete!\")\n",
        "\n",
        "    # load quantized model, currently only support cpu or single gpu\n",
        "    model = GPTQModel.from_quantized(quantized_model_id, device=\"cuda:0\")\n",
        "\n",
        "    # inference with model.generate\n",
        "    print(\n",
        "        tokenizer.decode(\n",
        "            model.generate(\n",
        "                **tokenizer(\"What is the capital of Jamaica?\", return_tensors=\"pt\").to(\n",
        "                    \"cuda:0\"\n",
        "                )\n",
        "            )[0]\n",
        "        )\n",
        "    )\n",
        "\n",
        "    print(\n",
        "        f\"Quantized Model {quantized_model_id} avg PPL is {calculate_avg_ppl(model, tokenizer)}\"\n",
        "    )\n",
        "\n",
        "# set logging configuration for GPTQModel\n",
        "logging.basicConfig(\n",
        "    format=\"%(asctime)s %(levelname)s [%(name)s] %(message)s\",\n",
        "    level=logging.INFO,\n",
        "    datefmt=\"%Y-%m-%d %H:%M:%S\",\n",
        ")\n",
        "\n",
        "# execute main method\n",
        "main()"
      ]
    }
  ],
  "metadata": {
    "colab": {
      "authorship_tag": "ABX9TyOYAjKWxbBGZxHKCbQjfPR2",
      "provenance": []
    },
    "kernelspec": {
      "display_name": "Python 3",
      "name": "python3"
    },
    "language_info": {
      "codemirror_mode": {
        "name": "ipython",
        "version": 3
      },
      "file_extension": ".py",
      "mimetype": "text/x-python",
      "name": "python",
      "nbconvert_exporter": "python",
      "pygments_lexer": "ipython3",
      "version": "3.11.6"
    }
  },
  "nbformat": 4,
  "nbformat_minor": 0
}
